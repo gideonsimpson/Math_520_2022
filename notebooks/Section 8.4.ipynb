{
 "cells": [
  {
   "cell_type": "code",
   "execution_count": null,
   "id": "96ce1028-2f26-4817-9e52-1343530ff0d5",
   "metadata": {},
   "outputs": [],
   "source": [
    "using Plots\n",
    "using LaTeXStrings\n",
    "using Printf\n",
    "using LinearAlgebra"
   ]
  },
  {
   "cell_type": "code",
   "execution_count": null,
   "id": "8e3f53b9-01af-4b16-90a3-4e9359367bcc",
   "metadata": {},
   "outputs": [],
   "source": [
    "# recommended for readable figures\n",
    "default(xtickfont=font(14),  ytickfont=font(14), \n",
    "    guidefont=font(14), legendfontsize=12, lw=2,ms=4)"
   ]
  },
  {
   "cell_type": "markdown",
   "id": "834aec7f-2d3a-4336-8b30-2ce2289ab891",
   "metadata": {},
   "source": [
    "# Plot Chebyshev polynomials"
   ]
  },
  {
   "cell_type": "code",
   "execution_count": null,
   "id": "42831de5-a59f-4b5e-9724-764d05e21c41",
   "metadata": {},
   "outputs": [],
   "source": [
    "n_max = 4;\n",
    "\n",
    "xx = -1:0.01:1|>collect;\n",
    "T0 = ones(size(xx));\n",
    "T1 = copy(xx);\n",
    "plot(xx, T0,label = L\"$T_0$\")\n",
    "plot!(xx, T1, label= L\"$T_1$\")\n",
    "\n",
    "Told =deepcopy(T0);\n",
    "T = deepcopy(T1);\n",
    "Tnew = zeros(size(xx));\n",
    "\n",
    "for n in 2:n_max\n",
    "    @. Tnew =   2 * xx * T - Told;\n",
    "    plot!(xx, Tnew, label = latexstring(@sprintf(\"\\$T_%d\\$\", n)))\n",
    "    copyto!(Told, T);\n",
    "    copyto!(T, Tnew);\n",
    "end\n",
    "xlabel!(L\"$x$\")"
   ]
  }
 ],
 "metadata": {
  "kernelspec": {
   "display_name": "Julia 1.8.2",
   "language": "julia",
   "name": "julia-1.8"
  },
  "language_info": {
   "file_extension": ".jl",
   "mimetype": "application/julia",
   "name": "julia",
   "version": "1.8.2"
  }
 },
 "nbformat": 4,
 "nbformat_minor": 5
}
