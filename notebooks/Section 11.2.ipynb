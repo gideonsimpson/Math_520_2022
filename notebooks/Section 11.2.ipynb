{
 "cells": [
  {
   "cell_type": "markdown",
   "metadata": {},
   "source": [
    "# Piecewise Linear Splines"
   ]
  },
  {
   "cell_type": "code",
   "execution_count": null,
   "metadata": {},
   "outputs": [],
   "source": [
    "using Plots\n",
    "using LaTeXStrings\n",
    "using Dierckx\n",
    "using BenchmarkTools"
   ]
  },
  {
   "cell_type": "code",
   "execution_count": null,
   "metadata": {},
   "outputs": [],
   "source": [
    "# recommended for readable figures\n",
    "default(xtickfont=font(14),  ytickfont=font(14), \n",
    "    guidefont=font(14), legendfontsize=12, lw=2,ms=4)"
   ]
  },
  {
   "cell_type": "markdown",
   "metadata": {},
   "source": [
    "# Manually Coded"
   ]
  },
  {
   "cell_type": "code",
   "execution_count": null,
   "metadata": {},
   "outputs": [],
   "source": [
    "# arguments x - knots, y = f(x), z = point for interpolation\n",
    "# x are assumed to be in order x[1]<x[2]...\n",
    "function linear_spline(x,y,z)\n",
    "    \n",
    "    # find which subinterval contains z\n",
    "    k = findlast(x.<=z) # x[k] <= z\n",
    "    if(k==length(x))\n",
    "        # need this in case k = end when z = x[end]\n",
    "        k = k-1\n",
    "    end\n",
    "    f = (x[k+1]-z)/(x[k+1]-x[k])*y[k] + (z-x[k])/(x[k+1] - x[k]) * y[k+1]\n",
    "    return f\n",
    "end"
   ]
  },
  {
   "cell_type": "code",
   "execution_count": null,
   "metadata": {},
   "outputs": [],
   "source": [
    "f = x-> cos(x)\n",
    "x = range(0,stop=2*π,length=7); # set of knots\n",
    "xx = range(0,stop=2*π, length=1000); # set of plotting points\n",
    "\n",
    "# f = x-> exp(-x)\n",
    "# x = range(0,stop=2,length=5);\n",
    "# xx = range(0,stop=2, length=100);\n",
    "\n",
    "f_interp = xx->linear_spline(x,f.(x),xx); # linear interpolant on the set of knots"
   ]
  },
  {
   "cell_type": "code",
   "execution_count": null,
   "metadata": {},
   "outputs": [],
   "source": [
    "f_interp(1)"
   ]
  },
  {
   "cell_type": "code",
   "execution_count": null,
   "metadata": {},
   "outputs": [],
   "source": [
    "@btime f_interp.(xx); # time computation"
   ]
  },
  {
   "cell_type": "code",
   "execution_count": null,
   "metadata": {},
   "outputs": [],
   "source": [
    "plot(xx, f.(xx),label=L\"$f(x)$\")\n",
    "scatter!(x, f.(x), label=\"Knots\")\n",
    "plot!(xx, f_interp.(xx),label=\"Linear Spline\")"
   ]
  },
  {
   "cell_type": "markdown",
   "metadata": {},
   "source": [
    "# Using Module"
   ]
  },
  {
   "cell_type": "code",
   "execution_count": null,
   "metadata": {},
   "outputs": [],
   "source": [
    "f = x-> cos(x)\n",
    "x = range(0,stop=2*π,length=7);\n",
    "xx = range(0,stop=2*π, length=1000);\n",
    "\n",
    "f_spl = Spline1D(x,f.(x), k=1)"
   ]
  },
  {
   "cell_type": "code",
   "execution_count": null,
   "metadata": {},
   "outputs": [],
   "source": [
    "@btime f_spl.(xx); # time computation"
   ]
  },
  {
   "cell_type": "code",
   "execution_count": null,
   "metadata": {},
   "outputs": [],
   "source": [
    "plot(xx, f.(xx),label=L\"$f(x)$\")\n",
    "scatter!(x, f.(x), label=\"Knots\")\n",
    "plot!(xx, f_spl.(xx),label=\"Dierckx Spline\")"
   ]
  }
 ],
 "metadata": {
  "kernelspec": {
   "display_name": "Julia 1.8.3",
   "language": "julia",
   "name": "julia-1.8"
  },
  "language_info": {
   "file_extension": ".jl",
   "mimetype": "application/julia",
   "name": "julia",
   "version": "1.8.3"
  },
  "toc": {
   "base_numbering": 1,
   "nav_menu": {},
   "number_sections": true,
   "sideBar": true,
   "skip_h1_title": false,
   "title_cell": "Table of Contents",
   "title_sidebar": "Contents",
   "toc_cell": false,
   "toc_position": {},
   "toc_section_display": true,
   "toc_window_display": false
  }
 },
 "nbformat": 4,
 "nbformat_minor": 4
}
