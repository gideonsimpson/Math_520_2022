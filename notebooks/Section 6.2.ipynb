{
 "cells": [
  {
   "cell_type": "code",
   "execution_count": null,
   "metadata": {},
   "outputs": [],
   "source": [
    "using Plots\n",
    "using LaTeXStrings"
   ]
  },
  {
   "cell_type": "code",
   "execution_count": null,
   "metadata": {},
   "outputs": [],
   "source": [
    "# recommended for readable figures\n",
    "default(xtickfont=font(14),  ytickfont=font(14), guidefont=font(14), \n",
    "    legendfontsize=12, lw=2,ms=8)"
   ]
  },
  {
   "cell_type": "markdown",
   "metadata": {},
   "source": [
    "Define the Lagrange Interpolating Polynomials by hand"
   ]
  },
  {
   "cell_type": "code",
   "execution_count": null,
   "metadata": {},
   "outputs": [],
   "source": [
    "function Lₖ(x,j,x_nodes)\n",
    "   \n",
    "    L = 1.0\n",
    "\n",
    "    for i in setdiff(1:length(x_nodes), [j])\n",
    "        L *= (x - x_nodes[i])/(x_nodes[j] - x_nodes[i]) \n",
    "    end\n",
    "    \n",
    "    return L\n",
    "    \n",
    "end\n",
    "\n",
    "function p_lagrange(x, x_nodes, y_nodes)\n",
    "    \n",
    "    y = 0\n",
    "    \n",
    "    for j in 1:length(x_nodes)\n",
    "       y += Lₖ(x,j,x_nodes)*y_nodes[j] \n",
    "    end\n",
    "\n",
    "    return y\n",
    "    \n",
    "end"
   ]
  },
  {
   "cell_type": "markdown",
   "metadata": {},
   "source": [
    "Set the data"
   ]
  },
  {
   "cell_type": "code",
   "execution_count": null,
   "metadata": {},
   "outputs": [],
   "source": [
    "# note the points are distinct\n",
    "x_nodes = [0.0, 0.2, 0.5, 1.0]\n",
    "f_nodes = [1., -1., 1., -1.]"
   ]
  },
  {
   "cell_type": "markdown",
   "metadata": {},
   "source": [
    "Construct and plot interpolant"
   ]
  },
  {
   "cell_type": "code",
   "execution_count": null,
   "metadata": {},
   "outputs": [],
   "source": [
    "xx = 0:0.01:1\n",
    "ff = p_lagrange.(xx, (x_nodes,), (f_nodes,));"
   ]
  },
  {
   "cell_type": "code",
   "execution_count": null,
   "metadata": {},
   "outputs": [],
   "source": [
    "plot(xx,ff, label=\"Interpolant\")\n",
    "scatter!(x_nodes,f_nodes,label=\"Data\")\n",
    "xlabel!(L\"$x$\")"
   ]
  },
  {
   "cell_type": "markdown",
   "metadata": {},
   "source": [
    "This can also be accomplished with the appropriate built in packages."
   ]
  },
  {
   "cell_type": "code",
   "execution_count": null,
   "metadata": {},
   "outputs": [],
   "source": [
    "using DataInterpolations"
   ]
  },
  {
   "cell_type": "code",
   "execution_count": null,
   "metadata": {},
   "outputs": [],
   "source": [
    "p_lagrange2 = LagrangeInterpolation(f_nodes, x_nodes)"
   ]
  },
  {
   "cell_type": "code",
   "execution_count": null,
   "metadata": {},
   "outputs": [],
   "source": [
    "xx = 0:0.01:1\n",
    "plot(xx,p_lagrange2.(xx), label=\"Interpolant\")\n",
    "scatter!(x_nodes,f_nodes,label=\"Data\")\n",
    "xlabel!(L\"$x$\")"
   ]
  }
 ],
 "metadata": {
  "kernelspec": {
   "display_name": "Julia 1.8.2",
   "language": "julia",
   "name": "julia-1.8"
  },
  "language_info": {
   "file_extension": ".jl",
   "mimetype": "application/julia",
   "name": "julia",
   "version": "1.8.2"
  },
  "toc": {
   "base_numbering": 1,
   "nav_menu": {},
   "number_sections": true,
   "sideBar": true,
   "skip_h1_title": false,
   "title_cell": "Table of Contents",
   "title_sidebar": "Contents",
   "toc_cell": false,
   "toc_position": {},
   "toc_section_display": true,
   "toc_window_display": false
  }
 },
 "nbformat": 4,
 "nbformat_minor": 4
}
