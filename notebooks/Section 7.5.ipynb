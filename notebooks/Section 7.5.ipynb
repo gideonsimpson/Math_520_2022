{
 "cells": [
  {
   "cell_type": "code",
   "execution_count": null,
   "metadata": {},
   "outputs": [],
   "source": [
    "using Printf\n",
    "using QuadGK"
   ]
  },
  {
   "cell_type": "code",
   "execution_count": null,
   "metadata": {},
   "outputs": [],
   "source": [
    "function trapz(f,a,b,m)\n",
    "    \n",
    "    x = range(a,b,length=m+1); \n",
    "    h = (b-a)/m;\n",
    "    \n",
    "    s = 0.0;\n",
    "    \n",
    "    for i in 1:m\n",
    "        s += .5 * h * (f(x[i]) + f(x[i+1]))\n",
    "    end\n",
    "    \n",
    "    return s\n",
    "    \n",
    "end\n",
    "\n",
    "function simpson(f,a,b,m)\n",
    "    \n",
    "    x = range(a,b,length=2*m+1); \n",
    "    h = (b-a)/(2*m);\n",
    "    \n",
    "    s = 0.0;\n",
    "    \n",
    "    for i in 1:m\n",
    "        s += 2*h/6 * (f(x[2*i-1])+ 4*f(x[2*i])+ f(x[2*i+1]))\n",
    "    end\n",
    "    \n",
    "    return s\n",
    "    \n",
    "end"
   ]
  },
  {
   "cell_type": "markdown",
   "metadata": {},
   "source": [
    "# Example 1"
   ]
  },
  {
   "cell_type": "code",
   "execution_count": null,
   "metadata": {},
   "outputs": [],
   "source": [
    "for m in 1:10\n",
    "    integral_estimate = trapz(sin, 0, π, m)\n",
    "    @printf(\"m = %d, ∫f = %g\\n\", m,integral_estimate)\n",
    "end"
   ]
  },
  {
   "cell_type": "code",
   "execution_count": null,
   "metadata": {},
   "outputs": [],
   "source": [
    "for m in 1:10\n",
    "    integral_estimate = simpson(sin, 0, π, m)\n",
    "    @printf(\"m = %d, ∫f = %g\\n\", m,integral_estimate)\n",
    "end"
   ]
  },
  {
   "cell_type": "code",
   "execution_count": null,
   "metadata": {},
   "outputs": [],
   "source": [
    "quadgk(sin,0,π)"
   ]
  },
  {
   "cell_type": "markdown",
   "metadata": {},
   "source": [
    "# Example 2"
   ]
  },
  {
   "cell_type": "code",
   "execution_count": null,
   "metadata": {},
   "outputs": [],
   "source": [
    "f=x->1/(1+x^2)\n",
    "for m in 1:15\n",
    "    integral_estimate = trapz(f, -5, 5, m)\n",
    "    @printf(\"m = %d, ∫f = %g\\n\", m,integral_estimate)\n",
    "end"
   ]
  },
  {
   "cell_type": "code",
   "execution_count": null,
   "metadata": {},
   "outputs": [],
   "source": [
    "f=x->1/(1+x^2)\n",
    "for m in 1:15\n",
    "    integral_estimate = simpson(f, -5, 5, m)\n",
    "    @printf(\"m = %d, ∫f = %g\\n\", m,integral_estimate)\n",
    "end"
   ]
  },
  {
   "cell_type": "code",
   "execution_count": null,
   "metadata": {},
   "outputs": [],
   "source": [
    "quadgk(f,-5,5)"
   ]
  }
 ],
 "metadata": {
  "kernelspec": {
   "display_name": "Julia 1.8.2",
   "language": "julia",
   "name": "julia-1.8"
  },
  "language_info": {
   "file_extension": ".jl",
   "mimetype": "application/julia",
   "name": "julia",
   "version": "1.8.2"
  },
  "toc": {
   "base_numbering": 1,
   "nav_menu": {},
   "number_sections": true,
   "sideBar": true,
   "skip_h1_title": false,
   "title_cell": "Table of Contents",
   "title_sidebar": "Contents",
   "toc_cell": false,
   "toc_position": {},
   "toc_section_display": true,
   "toc_window_display": false
  }
 },
 "nbformat": 4,
 "nbformat_minor": 4
}
