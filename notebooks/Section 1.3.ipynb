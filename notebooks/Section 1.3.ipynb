{
 "cells": [
  {
   "cell_type": "code",
   "execution_count": null,
   "metadata": {},
   "outputs": [],
   "source": [
    "using Plots # for basic plotting\n",
    "using LaTeXStrings # for LaTeX\n",
    "using Printf # for string macros"
   ]
  },
  {
   "cell_type": "code",
   "execution_count": null,
   "metadata": {},
   "outputs": [],
   "source": [
    "# recommended for readable figures\n",
    "default(xtickfont=font(14),  ytickfont=font(14), guidefont=font(14), \n",
    "    legendfontsize=12, lw=2,ms=8)"
   ]
  },
  {
   "cell_type": "code",
   "execution_count": null,
   "metadata": {},
   "outputs": [],
   "source": [
    "x = -2:0.01:2\n",
    "plot(x, exp.(x),label=L\"$e^x$\")\n",
    "plot!(x, x.+2,label=L\"$x+2$\")\n",
    "xlabel!(L\"$x$\")\n",
    "ylabel!(L\"$y$\")\n",
    "savefig(\"twointercepts1.pdf\")"
   ]
  },
  {
   "cell_type": "code",
   "execution_count": null,
   "metadata": {},
   "outputs": [],
   "source": [
    "f = x-> exp(x)-x-2\n",
    "\n",
    "x = -2:0.01:2\n",
    "plot(x,f.(x),label=\"\")\n",
    "plot!(x, 0 * x,c=:black,ls=:dash,label=\"\")\n",
    "xlabel!(L\"$x$\")\n",
    "ylabel!(L\"f(x)\")"
   ]
  },
  {
   "cell_type": "code",
   "execution_count": null,
   "metadata": {},
   "outputs": [],
   "source": [
    "g₁ = x-> log(x+2)\n",
    "g₂ = x-> exp(x)-2\n",
    "g₃ = x->x * (exp(x)-x)/2"
   ]
  },
  {
   "cell_type": "markdown",
   "metadata": {},
   "source": [
    "Positive root"
   ]
  },
  {
   "cell_type": "code",
   "execution_count": null,
   "metadata": {},
   "outputs": [],
   "source": [
    "n_iter=20\n",
    "x₀ = 1.0\n",
    "\n",
    "x = x₀\n",
    "println(\"iter \", 0,\" x = \", x);\n",
    "for j = 1:n_iter\n",
    "    x = g₁(x)\n",
    "    println(\"iter \", j,\" x = \", x);\n",
    "end\n",
    "ξ₁ = x"
   ]
  },
  {
   "cell_type": "markdown",
   "metadata": {},
   "source": [
    "Negative Root"
   ]
  },
  {
   "cell_type": "code",
   "execution_count": null,
   "metadata": {},
   "outputs": [],
   "source": [
    "n_iter=20\n",
    "x₀ = -1.5\n",
    "\n",
    "x = x₀\n",
    "println(\"iter \", 0,\" x = \", x);\n",
    "for j = 1:n_iter\n",
    "    x = g₂(x)\n",
    "    println(\"iter \", j,\" x = \", x);\n",
    "end\n",
    "ξ₂=x"
   ]
  },
  {
   "cell_type": "code",
   "execution_count": null,
   "metadata": {},
   "outputs": [],
   "source": [
    "f = x-> exp(x)-x-2\n",
    "\n",
    "x = -2:0.01:2\n",
    "plot(x,f.(x),label=\"\")\n",
    "plot!(x, 0 * x,c=:black,ls=:dash,label=\"\")\n",
    "scatter!([ξ₁,ξ₂ ], f.([ξ₁,ξ₂ ]),c=:red,shape=:star5, ms=12,label=\"\")\n",
    "xlabel!(L\"$x$\")\n",
    "ylabel!(L\"f(x)\")"
   ]
  },
  {
   "cell_type": "markdown",
   "metadata": {},
   "source": [
    "Alternative Iteration Method"
   ]
  },
  {
   "cell_type": "code",
   "execution_count": null,
   "metadata": {},
   "outputs": [],
   "source": [
    "n_iter=20\n",
    "x₀ = 1\n",
    "\n",
    "x = x₀\n",
    "println(\"iter \", 0,\" x = \", x);\n",
    "for j = 1:n_iter\n",
    "    x = g₃(x)\n",
    "    println(\"iter \", j,\" x = \", x);\n",
    "end"
   ]
  },
  {
   "cell_type": "code",
   "execution_count": null,
   "metadata": {},
   "outputs": [],
   "source": []
  }
 ],
 "metadata": {
  "kernelspec": {
   "display_name": "Julia 1.8.0",
   "language": "julia",
   "name": "julia-1.8"
  },
  "language_info": {
   "file_extension": ".jl",
   "mimetype": "application/julia",
   "name": "julia",
   "version": "1.8.1"
  },
  "toc": {
   "base_numbering": 1,
   "nav_menu": {},
   "number_sections": true,
   "sideBar": true,
   "skip_h1_title": false,
   "title_cell": "Table of Contents",
   "title_sidebar": "Contents",
   "toc_cell": false,
   "toc_position": {},
   "toc_section_display": true,
   "toc_window_display": false
  }
 },
 "nbformat": 4,
 "nbformat_minor": 4
}
