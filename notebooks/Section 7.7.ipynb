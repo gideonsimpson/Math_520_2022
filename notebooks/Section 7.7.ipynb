{
 "cells": [
  {
   "cell_type": "code",
   "execution_count": null,
   "metadata": {},
   "outputs": [],
   "source": [
    "using Printf\n",
    "using QuadGK\n",
    "using Plots\n",
    "using LaTeXStrings"
   ]
  },
  {
   "cell_type": "code",
   "execution_count": null,
   "metadata": {},
   "outputs": [],
   "source": [
    "# recommended for readable figures\n",
    "default(xtickfont=font(14),  ytickfont=font(14), \n",
    "    guidefont=font(14), legendfontsize=12, lw=2,ms=8)"
   ]
  },
  {
   "cell_type": "code",
   "execution_count": null,
   "metadata": {},
   "outputs": [],
   "source": [
    "function trapz(f,a,b,m)\n",
    "    \n",
    "    x = range(a,b,length=m+1); \n",
    "    h = (b-a)/m;\n",
    "    \n",
    "    s = 0.0;\n",
    "    \n",
    "    for i in 1:m\n",
    "        s += .5 * h * (f(x[i]) + f(x[i+1]))\n",
    "    end\n",
    "    \n",
    "    return s\n",
    "    \n",
    "end\n"
   ]
  },
  {
   "cell_type": "markdown",
   "metadata": {},
   "source": [
    "# Example\n",
    "Use Romberg integration on \n",
    "$$\n",
    "\\int_{0}^1 x\\log(1+x)dx\n",
    "$$"
   ]
  },
  {
   "cell_type": "code",
   "execution_count": null,
   "metadata": {},
   "outputs": [],
   "source": [
    "f = x->x*log(1+x)"
   ]
  },
  {
   "cell_type": "code",
   "execution_count": null,
   "metadata": {},
   "outputs": [],
   "source": [
    "m_vals = [4, 8, 16, 32, 64]\n",
    "kmax = length(m_vals)\n",
    "romberg_estimates = zeros(kmax,kmax)\n",
    "\n",
    "# compute direct trapezoidal estimates\n",
    "for (j,m) in zip(1:kmax,m_vals)\n",
    "    romberg_estimates[j,1] = trapz(f, 0, 1 , m);\n",
    "end\n",
    "\n",
    "# use Richardson Extrapolation to get the rest\n",
    "for k in 2:kmax\n",
    "    romberg_estimates[1:kmax-k+1,k] .= (4^k)/((4^k) - 1) *romberg_estimates[2:kmax-k+2,k-1] .- 1/((4^k)-1) * romberg_estimates[1:kmax-k+1,k-1]\n",
    "end\n",
    "romberg_estimates"
   ]
  },
  {
   "cell_type": "code",
   "execution_count": null,
   "metadata": {},
   "outputs": [],
   "source": [
    "quadgk(f,0,1)"
   ]
  },
  {
   "cell_type": "code",
   "execution_count": null,
   "metadata": {},
   "outputs": [],
   "source": [
    "scatter(0:4, abs.(romberg_estimates[1,:] .- 0.25), yscale=:log10, label=\"Data\")\n",
    "plot!(0:4, 0.01 * (0.5) .^ ( 2* ((0:4) .+1)), label=L\"\\propto (0.5)^{2m+2}\")\n",
    "xlabel!(L\"$m$\")\n",
    "ylabel!(L\"Error of $T_m$\")"
   ]
  }
 ],
 "metadata": {
  "kernelspec": {
   "display_name": "Julia 1.8.2",
   "language": "julia",
   "name": "julia-1.8"
  },
  "language_info": {
   "file_extension": ".jl",
   "mimetype": "application/julia",
   "name": "julia",
   "version": "1.8.2"
  },
  "toc": {
   "base_numbering": 1,
   "nav_menu": {},
   "number_sections": true,
   "sideBar": true,
   "skip_h1_title": false,
   "title_cell": "Table of Contents",
   "title_sidebar": "Contents",
   "toc_cell": false,
   "toc_position": {},
   "toc_section_display": true,
   "toc_window_display": false
  }
 },
 "nbformat": 4,
 "nbformat_minor": 4
}
