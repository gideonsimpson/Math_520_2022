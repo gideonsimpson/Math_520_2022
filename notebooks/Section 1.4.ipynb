{
 "cells": [
  {
   "cell_type": "markdown",
   "metadata": {},
   "source": [
    "# Newton's Method"
   ]
  },
  {
   "cell_type": "code",
   "execution_count": null,
   "metadata": {},
   "outputs": [],
   "source": [
    "using Plots # for basic plotting\n",
    "using LaTeXStrings # for LaTeX\n",
    "using Printf # for string macros\n",
    "using ForwardDiff # for automatic differentiation"
   ]
  },
  {
   "cell_type": "code",
   "execution_count": null,
   "metadata": {},
   "outputs": [],
   "source": [
    "# recommended for readable figures\n",
    "default(xtickfont=font(14),  ytickfont=font(14), guidefont=font(14), \n",
    "    legendfontsize=12, lw=2,ms=8)"
   ]
  },
  {
   "cell_type": "code",
   "execution_count": null,
   "metadata": {},
   "outputs": [],
   "source": [
    "f = x-> exp(x)-x-2\n",
    "fp = x-> ForwardDiff.derivative(f,x)\n",
    "\n",
    "x = -2:0.01:2\n",
    "plot(x,f.(x),label=L\"f(x)\", legend=:topleft)\n",
    "plot!(x,fp.(x),label=L\"f'(x)\")\n",
    "plot!(x, 0 * x,c=:black,ls=:dash,label=\"\")\n",
    "xlabel!(L\"$x$\")"
   ]
  },
  {
   "cell_type": "code",
   "execution_count": null,
   "metadata": {},
   "outputs": [],
   "source": [
    "n_iter=7\n",
    "x₀ = 1.0\n",
    "\n",
    "x = x₀\n",
    "println(\"iter \", 0,\" x = \", x, \" f(x) = \", f(x));\n",
    "for j = 1:n_iter\n",
    "    x = x - f(x)/fp(x)\n",
    "    println(\"iter \", j,\" x = \", x, \" f(x) = \", f(x));\n",
    "end\n"
   ]
  }
 ],
 "metadata": {
  "kernelspec": {
   "display_name": "Julia 1.8.0",
   "language": "julia",
   "name": "julia-1.8"
  },
  "language_info": {
   "file_extension": ".jl",
   "mimetype": "application/julia",
   "name": "julia",
   "version": "1.8.1"
  },
  "toc": {
   "base_numbering": 1,
   "nav_menu": {},
   "number_sections": true,
   "sideBar": true,
   "skip_h1_title": false,
   "title_cell": "Table of Contents",
   "title_sidebar": "Contents",
   "toc_cell": false,
   "toc_position": {},
   "toc_section_display": true,
   "toc_window_display": false
  }
 },
 "nbformat": 4,
 "nbformat_minor": 4
}
