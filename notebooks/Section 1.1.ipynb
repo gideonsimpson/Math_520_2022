{
 "cells": [
  {
   "cell_type": "code",
   "execution_count": null,
   "id": "2a714353-a65b-4734-9aa6-38aaa169f970",
   "metadata": {},
   "outputs": [],
   "source": [
    "using Plots # for basic plotting\n",
    "using LaTeXStrings # for LaTeX\n",
    "using Printf # for string macros"
   ]
  },
  {
   "cell_type": "code",
   "execution_count": null,
   "id": "d64206ea-4096-44f2-99f8-c8f0f4566ec2",
   "metadata": {},
   "outputs": [],
   "source": [
    "# recommended for readable figures\n",
    "default(xtickfont=font(14),  ytickfont=font(14), guidefont=font(14), \n",
    "    legendfontsize=12, lw=2,ms=8)"
   ]
  },
  {
   "cell_type": "markdown",
   "id": "0723f1d1-e76d-4efd-9d5a-e9ae006d1cb5",
   "metadata": {},
   "source": [
    "# Degree 5 Polynomial"
   ]
  },
  {
   "cell_type": "code",
   "execution_count": null,
   "id": "c4fec0e2-8976-40b3-9105-c2803cb31122",
   "metadata": {},
   "outputs": [],
   "source": [
    "p(x) = x^5 - 4 * x -2\n",
    "xx = LinRange(-2,2,100)\n",
    "plot(xx, p.(xx),label=\"\")\n",
    "plot!(xx, 0*xx, label=\"\", color=:black, ls=:dash)\n",
    "xlabel!(L\"$x$\")\n",
    "title!(L\"$x^5 - 4x-2\")"
   ]
  },
  {
   "cell_type": "markdown",
   "id": "b72fbb2f-e484-499a-9248-9753dc842033",
   "metadata": {},
   "source": [
    "# Non-Polynomial Function"
   ]
  },
  {
   "cell_type": "code",
   "execution_count": null,
   "id": "735c011a-c52d-4170-a6d5-540dc19ec72e",
   "metadata": {},
   "outputs": [],
   "source": [
    "f(x) = exp(x)-1-sqrt(x);\n",
    "xx = LinRange(0,1,400)\n",
    "plot(xx, f.(xx),label=\"\")\n",
    "plot!(xx, 0*xx, label=\"\", color=:black, ls=:dash)\n",
    "xlabel!(L\"$x$\")\n",
    "title!(L\"$e^x -1 - \\sqrt{x}$\")"
   ]
  }
 ],
 "metadata": {
  "kernelspec": {
   "display_name": "Julia 1.8.1",
   "language": "julia",
   "name": "julia-1.8"
  },
  "language_info": {
   "file_extension": ".jl",
   "mimetype": "application/julia",
   "name": "julia",
   "version": "1.8.1"
  }
 },
 "nbformat": 4,
 "nbformat_minor": 5
}
