{
 "cells": [
  {
   "cell_type": "code",
   "execution_count": null,
   "metadata": {},
   "outputs": [],
   "source": [
    "using Printf\n",
    "using Plots\n",
    "using LaTeXStrings"
   ]
  },
  {
   "cell_type": "code",
   "execution_count": null,
   "metadata": {},
   "outputs": [],
   "source": [
    "# recommended for readable figures\n",
    "default(xtickfont=font(14),  ytickfont=font(14), guidefont=font(14), \n",
    "    legendfontsize=12, lw=2,ms=8)"
   ]
  },
  {
   "cell_type": "code",
   "execution_count": null,
   "metadata": {},
   "outputs": [],
   "source": [
    "# define function of 2 variables\n",
    "# x is a 2D array\n",
    "\n",
    "function f(x)\n",
    "    return [x[1]^2+x[2]^2-1, 5*x[1]^2+21*x[2]^2-9]\n",
    "end\n"
   ]
  },
  {
   "cell_type": "code",
   "execution_count": null,
   "metadata": {},
   "outputs": [],
   "source": [
    "## visualize function\n",
    "xx = -1.5:0.01:1.5;\n",
    "yy = -1.5:0.01:1.5;\n",
    "XY = [[x,y] for y in yy, x in xx];\n",
    "ff = f.(XY);\n",
    "f₁ = [f[1] for f in ff];\n",
    "f₂ = [f[2] for f in ff];\n",
    "\n",
    "contour(xx, yy, f₁, levels=[0], color=:red, colorbar=false)\n",
    "contour!(xx, yy, f₂, levels=[0], color=:green, colorbar=false)\n",
    "xlabel!(L\"$x_1$\")\n",
    "ylabel!(L\"$x_2$\")"
   ]
  },
  {
   "cell_type": "code",
   "execution_count": null,
   "metadata": {},
   "outputs": [],
   "source": [
    "# define iterative function\n",
    "# x is a 2D array\n",
    "function g(x)\n",
    "    return [sqrt(1-x[2]^2), sqrt((9-5*x[1]^2)/21)]\n",
    "end"
   ]
  },
  {
   "cell_type": "code",
   "execution_count": null,
   "metadata": {},
   "outputs": [],
   "source": [
    "x₀ = [.5,.5]\n",
    "x = copy(x₀)\n",
    "\n",
    "n_iter = 20\n",
    "\n",
    "@printf(\"iter %2d: x = (%.15f,%.15f), f(x) = (%.2g,%.2g)\\n\",0,x[1],x[2], f(x)[1],f(x)[2])\n",
    "\n",
    "for j in 1:n_iter\n",
    "    x .= g(x) \n",
    "    @printf(\"iter %2d: x = (%.15f,%.15f), f(x) = (%.2g,%.2g)\\n\",j,x[1],x[2], f(x)[1],f(x)[2]);\n",
    "end\n"
   ]
  },
  {
   "cell_type": "code",
   "execution_count": null,
   "metadata": {},
   "outputs": [],
   "source": [
    "@show sqrt(3)/2;"
   ]
  },
  {
   "cell_type": "code",
   "execution_count": null,
   "metadata": {},
   "outputs": [],
   "source": []
  }
 ],
 "metadata": {
  "kernelspec": {
   "display_name": "Julia 1.8.2",
   "language": "julia",
   "name": "julia-1.8"
  },
  "language_info": {
   "file_extension": ".jl",
   "mimetype": "application/julia",
   "name": "julia",
   "version": "1.8.2"
  },
  "toc": {
   "base_numbering": 1,
   "nav_menu": {},
   "number_sections": true,
   "sideBar": true,
   "skip_h1_title": false,
   "title_cell": "Table of Contents",
   "title_sidebar": "Contents",
   "toc_cell": false,
   "toc_position": {},
   "toc_section_display": true,
   "toc_window_display": false
  }
 },
 "nbformat": 4,
 "nbformat_minor": 4
}
