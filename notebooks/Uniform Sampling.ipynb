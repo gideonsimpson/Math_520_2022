{
 "cells": [
  {
   "cell_type": "code",
   "execution_count": null,
   "metadata": {},
   "outputs": [],
   "source": [
    "using Plots\n",
    "using Printf\n",
    "using LaTeXStrings\n",
    "using Random\n",
    "using Statistics"
   ]
  },
  {
   "cell_type": "code",
   "execution_count": null,
   "metadata": {},
   "outputs": [],
   "source": [
    "default(xtickfont=font(14),  ytickfont=font(14), guidefont=font(14), legendfont=font(12), lw=2,ms=8)"
   ]
  },
  {
   "cell_type": "markdown",
   "metadata": {},
   "source": [
    "# Monte Carlo Estimate of \n",
    "$$\n",
    "g(x) = \\sin(x)\n",
    "$$\n",
    "using $U(0,1)$ random variables."
   ]
  },
  {
   "cell_type": "code",
   "execution_count": null,
   "metadata": {},
   "outputs": [],
   "source": [
    "g = x-> sin(x);"
   ]
  },
  {
   "cell_type": "code",
   "execution_count": null,
   "metadata": {},
   "outputs": [],
   "source": [
    "Random.seed!(100); # set the seed for reproducibility\n",
    "\n",
    "n = 10^2; # number of samples\n",
    "\n",
    "η_vals = rand(n); # generate the samples, rand samples U(0,1)\n",
    "\n",
    "I_est = mean(g.(η_vals)); # sample averages\n",
    "\n",
    "@printf(\"Estimate with %d samples = %g\\n\", n, I_est)\n"
   ]
  },
  {
   "cell_type": "markdown",
   "metadata": {},
   "source": [
    "Compare estimates as $n$, the number of samples, varies"
   ]
  },
  {
   "cell_type": "code",
   "execution_count": null,
   "metadata": {},
   "outputs": [],
   "source": [
    "Random.seed!(100); # set the seed for reproducibility\n",
    "\n",
    "n_vals = [10^2, 10^3, 10^4, 10^5, 10^6];\n",
    "\n",
    "for n in n_vals\n",
    "    η_vals = rand(n); # generate the samples\n",
    "\n",
    "    I_est = mean(g.(η_vals));\n",
    "\n",
    "    @printf(\"Estimate with %.1e samples = %g\\n\", n, I_est)\n",
    "end\n"
   ]
  },
  {
   "cell_type": "markdown",
   "metadata": {},
   "source": [
    "Evaluate spread of the sample estimates for each $n$ with repeated trials.  This produces statistics on the statistics, \n",
    "$$\n",
    "\\bar{g}_n = \\frac{1}{n}\\sum_{k=1}^n g(\\eta_k)\n",
    "$$"
   ]
  },
  {
   "cell_type": "code",
   "execution_count": null,
   "metadata": {},
   "outputs": [],
   "source": [
    "Random.seed!(100); # set the seed for reproducibility\n",
    "\n",
    "n_vals = [10^2, 10^3, 10^4, 10^5, 10^6];\n",
    "n_trials = 10^2;\n",
    "\n",
    "I_mean_vals = zeros(length(n_vals));\n",
    "I_var_vals = zeros(length(n_vals));\n",
    "sample_means = zeros(n_trials);\n",
    "\n",
    "for (i,n) in enumerate(n_vals)\n",
    "    @. sample_means = 0;\n",
    "    for k in 1:n_trials\n",
    "        η_vals = rand(n); # generate the samples\n",
    "\n",
    "        sample_means[k] = mean(g.(η_vals));\n",
    "    end\n",
    "    I_mean_vals[i]=mean(sample_means);\n",
    "    I_var_vals[i] = var(sample_means);\n",
    "end\n"
   ]
  },
  {
   "cell_type": "markdown",
   "metadata": {},
   "source": [
    "Visualize results"
   ]
  },
  {
   "cell_type": "code",
   "execution_count": null,
   "metadata": {},
   "outputs": [],
   "source": [
    "scatter(n_vals, I_mean_vals,yerror = sqrt.(I_var_vals), label=\"Means\", xscale=:log10)\n",
    "plot!(n_vals, (cos(0)- cos(1)) * ones(length(n_vals)),label=\"Exact\")\n",
    "xlabel!(L\"$n$\")"
   ]
  },
  {
   "cell_type": "code",
   "execution_count": null,
   "metadata": {},
   "outputs": [],
   "source": [
    "Random.seed!(100); # set the seed for reproducibility\n",
    "\n",
    "n=10^6;\n",
    "n_trials = 10^2;\n",
    "\n",
    "sample_means = zeros(n_trials);\n",
    "\n",
    "for k in 1:n_trials\n",
    "    η_vals = rand(n); # generate the samples\n",
    "    sample_means[k] = mean(g.(η_vals));\n",
    "end"
   ]
  },
  {
   "cell_type": "code",
   "execution_count": null,
   "metadata": {},
   "outputs": [],
   "source": [
    "histogram(sample_means,nbins=10, label=@sprintf(\"n = %d\", n))\n",
    "xlabel!(L\"$x$\")"
   ]
  },
  {
   "cell_type": "code",
   "execution_count": null,
   "metadata": {},
   "outputs": [],
   "source": []
  }
 ],
 "metadata": {
  "kernelspec": {
   "display_name": "Julia 1.8.3",
   "language": "julia",
   "name": "julia-1.8"
  },
  "language_info": {
   "file_extension": ".jl",
   "mimetype": "application/julia",
   "name": "julia",
   "version": "1.8.3"
  }
 },
 "nbformat": 4,
 "nbformat_minor": 4
}
