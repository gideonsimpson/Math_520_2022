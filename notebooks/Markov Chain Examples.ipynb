{
 "cells": [
  {
   "cell_type": "code",
   "execution_count": null,
   "metadata": {},
   "outputs": [],
   "source": [
    "using Plots\n",
    "using LaTeXStrings\n",
    "using Printf\n",
    "using Random\n",
    "using Statistics"
   ]
  },
  {
   "cell_type": "code",
   "execution_count": null,
   "metadata": {},
   "outputs": [],
   "source": [
    "# recommended for readable figures\n",
    "default(xtickfont=font(14),  ytickfont=font(14), guidefont=font(14), \n",
    "    legendfontsize=12, lw=2,ms=8)"
   ]
  },
  {
   "cell_type": "markdown",
   "metadata": {},
   "source": [
    "# AR(1) Markov Chain Example\n",
    "Generate samples from\n",
    "$$\n",
    "X_{k+1} = -\\alpha X_k + \\sigma \\xi_{k+1}, \\quad \\alpha>0, \\sigma>0,\\xi_{k+1} \\sim N(0,1)\n",
    "$$"
   ]
  },
  {
   "cell_type": "code",
   "execution_count": null,
   "metadata": {},
   "outputs": [],
   "source": [
    "α = 0.5;\n",
    "σ = 0.5;\n",
    "\n",
    "x = 0.\n",
    "\n",
    "n = 10^4;\n",
    "\n",
    "Random.seed!(100);\n",
    "\n",
    "x_vals = [x];\n",
    "for _ in 1:n\n",
    "    x = -α  * x + σ * randn();\n",
    "    push!(x_vals, x);\n",
    "end\n"
   ]
  },
  {
   "cell_type": "code",
   "execution_count": null,
   "metadata": {},
   "outputs": [],
   "source": [
    "plot(0:n, x_vals, label=\"\")\n",
    "xlabel!(L\"Iterate $k$\")\n",
    "ylabel!(L\"$X_k$\")"
   ]
  },
  {
   "cell_type": "code",
   "execution_count": null,
   "metadata": {},
   "outputs": [],
   "source": [
    "histogram(x_vals, label=\"Samples\")\n",
    "xlabel!(L\"$x$\")\n",
    "ylabel!(\"Distribution\")"
   ]
  }
 ],
 "metadata": {
  "kernelspec": {
   "display_name": "Julia 1.8.3",
   "language": "julia",
   "name": "julia-1.8"
  },
  "language_info": {
   "file_extension": ".jl",
   "mimetype": "application/julia",
   "name": "julia",
   "version": "1.8.3"
  }
 },
 "nbformat": 4,
 "nbformat_minor": 4
}
