{
 "cells": [
  {
   "cell_type": "code",
   "execution_count": null,
   "metadata": {},
   "outputs": [],
   "source": [
    "using Plots\n",
    "using LaTeXStrings\n",
    "using Printf\n",
    "using LinearAlgebra\n",
    "using QuadGK"
   ]
  },
  {
   "cell_type": "code",
   "execution_count": null,
   "metadata": {},
   "outputs": [],
   "source": [
    "# recommended for readable figures\n",
    "default(xtickfont=font(14),  ytickfont=font(14), \n",
    "    guidefont=font(14), legendfontsize=12, lw=2,ms=4)"
   ]
  },
  {
   "cell_type": "markdown",
   "metadata": {},
   "source": [
    "# Variation in Approximation method\n",
    "Approximate\n",
    "$$\n",
    "f(x) = 1 - e^{-x/\\epsilon}\n",
    "$$\n",
    "in the $2$-norm and the $\\infty$-norm, and compare.  Approximation is over $\\mathcal{P}_0$."
   ]
  },
  {
   "cell_type": "code",
   "execution_count": null,
   "metadata": {},
   "outputs": [],
   "source": [
    "f = (x, ϵ)-> 1 - exp(-x/ϵ)"
   ]
  },
  {
   "cell_type": "code",
   "execution_count": null,
   "metadata": {},
   "outputs": [],
   "source": [
    "xx = 0:0.001:1;\n",
    "ϵ=0.2;\n",
    "\n",
    "plot(xx, f.(xx,(ϵ,)),label=L\"$f(x)$\")\n",
    "plot!(xx, (1 - ϵ + ϵ * exp(-1/ϵ))*ones(size(xx)), label=L\"$p_0^{(2)}$\")\n",
    "plot!(xx, .5 *(1 -exp(-1/ϵ))*ones(size(xx)),label=L\"$p_0^{(\\infty)}$\")\n",
    "xlabel!(L\"$x$\")\n",
    "title!(latexstring(@sprintf(\"\\$\\\\epsilon = %g\\$\", ϵ)))"
   ]
  },
  {
   "cell_type": "markdown",
   "metadata": {},
   "source": [
    "# Example Least Squares computation\n",
    "Construct matrix $M$ and vector $b$, then solve\n",
    "$$\n",
    "Mc = b\n",
    "$$\n",
    "for $c$.  The approximation is then\n",
    "$$\n",
    "p(x) = c_0 + c_1 x + \\ldots c_n x^n\n",
    "$$"
   ]
  },
  {
   "cell_type": "code",
   "execution_count": null,
   "metadata": {},
   "outputs": [],
   "source": [
    "n =3;\n",
    "M = zeros(n+1, n+1); # matrix M\n",
    "b = zeros(n+1) # vector b\n",
    "\n",
    "f = x->log(x+1)*exp(-x)\n",
    "\n",
    "# building up matrix M\n",
    "for j in 0:n,k in 0:n\n",
    "    M[j+1,k+1] = 1 /(k + j +1)\n",
    "end\n",
    "\n",
    "# building up vector b\n",
    "for j in 0:n\n",
    "   b[j+1] = quadgk(x->f(x)*x^j,0,1)[1] \n",
    "end\n",
    "\n",
    "# solve\n",
    "c = M\\b;\n",
    "\n",
    "# visualize\n",
    "xx = 0:0.01:1\n",
    "\n",
    "# build up solution and evaluate on [0,1]\n",
    "p = zeros(size(xx))\n",
    "for j in 0:n\n",
    "    p .+= c[j+1] .* xx.^j\n",
    "end\n",
    "\n",
    "\n",
    "plot(xx, f.(xx), label=L\"$f(x)$\")\n",
    "plot!(xx, p,lw=2, label=L\"$p(x)$\")\n",
    "xlabel!(L\"$x$\")"
   ]
  },
  {
   "cell_type": "code",
   "execution_count": null,
   "metadata": {},
   "outputs": [],
   "source": []
  }
 ],
 "metadata": {
  "kernelspec": {
   "display_name": "Julia 1.8.2",
   "language": "julia",
   "name": "julia-1.8"
  },
  "language_info": {
   "file_extension": ".jl",
   "mimetype": "application/julia",
   "name": "julia",
   "version": "1.8.2"
  },
  "toc": {
   "base_numbering": 1,
   "nav_menu": {},
   "number_sections": true,
   "sideBar": true,
   "skip_h1_title": false,
   "title_cell": "Table of Contents",
   "title_sidebar": "Contents",
   "toc_cell": false,
   "toc_position": {},
   "toc_section_display": true,
   "toc_window_display": false
  }
 },
 "nbformat": 4,
 "nbformat_minor": 4
}
