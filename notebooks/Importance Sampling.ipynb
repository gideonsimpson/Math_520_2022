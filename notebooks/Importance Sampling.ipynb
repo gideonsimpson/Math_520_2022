{
 "cells": [
  {
   "cell_type": "code",
   "execution_count": null,
   "metadata": {},
   "outputs": [],
   "source": [
    "using Plots\n",
    "using LaTeXStrings\n",
    "using Printf\n",
    "using Random\n",
    "using Statistics"
   ]
  },
  {
   "cell_type": "code",
   "execution_count": null,
   "metadata": {},
   "outputs": [],
   "source": [
    "# recommended for readable figures\n",
    "default(xtickfont=font(14),  ytickfont=font(14), guidefont=font(14), \n",
    "    legendfontsize=12, lw=2,ms=8)"
   ]
  },
  {
   "cell_type": "markdown",
   "metadata": {},
   "source": [
    "# Direct Monte Carlo\n",
    "Estimate\n",
    "$$\n",
    "I = \\int_0^1 \\cos(x/5) e^{-5x}dx\n",
    "$$\n",
    "by Direct Monte Carlo, as\n",
    "$$\n",
    "I = \\frac{1}{n}\\sum_{i=1}^n \\cos(\\eta_i/5) e^{-5\\eta_i}\n",
    "$$\n",
    "with $\\eta_i \\sim U(0,1)$ i.i.d."
   ]
  },
  {
   "cell_type": "code",
   "execution_count": null,
   "metadata": {},
   "outputs": [],
   "source": [
    "g = x-> cos(x/5) * exp(-5*x);"
   ]
  },
  {
   "cell_type": "code",
   "execution_count": null,
   "metadata": {},
   "outputs": [],
   "source": [
    "xx = LinRange(0,1,100)\n",
    "plot(xx, g.(xx), label=L\"$g(x)$\")\n",
    "plot!(xx, cos.(xx./5), label=L\"$\\cos(x/5)$\")\n",
    "xlabel!(L\"$x$\")"
   ]
  },
  {
   "cell_type": "code",
   "execution_count": null,
   "metadata": {},
   "outputs": [],
   "source": [
    "Random.seed!(100)\n",
    "\n",
    "\n",
    "n = 10^2;\n",
    "\n",
    "n_trials = 10^2;\n",
    "\n",
    "I_estimates = zeros(n_trials);\n",
    "\n",
    "for k in 1:n_trials\n",
    "    η_vals = rand(n); # generate the samples, rand samples U(0,1)\n",
    "    I_estimates[k] = mean(g.(η_vals));\n",
    "end\n",
    "\n",
    "\n",
    "I_est = mean(I_estimates); # mean of the means averages\n",
    "@printf(\"Mean estimate with %d samples = %g\\n\", n, I_est)\n",
    "@printf(\"Variance of estimate with %d samples = %e\\n\", n, var(I_estimates))\n",
    "histogram(I_estimates, label=\"Samples\")\n",
    "title!(latexstring(@sprintf(\"Estimates with \\$n = %g\\$\",n)))\n",
    "xlabel!(L\"Estimate of $I$\")"
   ]
  },
  {
   "cell_type": "markdown",
   "metadata": {},
   "source": [
    "Relativley large spread in the histogram of estimates."
   ]
  },
  {
   "cell_type": "markdown",
   "metadata": {},
   "source": [
    "# Importance Sampler\n",
    "Now estimate via importance sampling,\n",
    "$$\n",
    "I= I_1 \\mathbb{E}[\\cos(\\xi/5)].\n",
    "$$\n",
    "Here,\n",
    "$$\n",
    "I_1 = \\frac{1 - e^{-5}}{5}\n",
    "$$\n",
    "and $\\eta$ has the pdf\n",
    "$$\n",
    "f_\\xi(x) = \\frac{e^{-5x}}{I_1}1_{[0,1]}(x)\n",
    "$$"
   ]
  },
  {
   "cell_type": "markdown",
   "metadata": {},
   "source": [
    "## Construct Inverse Function Sampler\n",
    "This samples the $\\xi$ variable from above."
   ]
  },
  {
   "cell_type": "code",
   "execution_count": null,
   "metadata": {},
   "outputs": [],
   "source": [
    "I₁ = (1-exp(-5))/5;\n",
    "Finv =u-> -1/5 * log(1 - 5 * I₁ * u);\n",
    "function ξ_sampler()\n",
    "   return Finv(rand()); \n",
    "end"
   ]
  },
  {
   "cell_type": "markdown",
   "metadata": {},
   "source": [
    "## Perform Importance Sampling"
   ]
  },
  {
   "cell_type": "code",
   "execution_count": null,
   "metadata": {},
   "outputs": [],
   "source": [
    "Random.seed!(100)\n",
    "\n",
    "G = x-> cos(x/5);\n",
    "\n",
    "n = 10^2;\n",
    "\n",
    "n_trials = 10^2;\n",
    "\n",
    "I_estimates = zeros(n_trials);\n",
    "\n",
    "for k in 1:n_trials\n",
    "    ξ_vals = [ξ_sampler() for _ in 1:n]; # generate the samples\n",
    "    I_estimates[k] = I₁ * mean(G.(ξ_vals));\n",
    "end\n",
    "\n",
    "\n",
    "I_est = mean(I_estimates); # mean of the means averages\n",
    "@printf(\"Mean estimate with %d samples = %g\\n\", n, I_est)\n",
    "@printf(\"Variance of estimate with %d samples = %e\\n\", n, var(I_estimates))\n",
    "histogram(I_estimates, label=\"Samples\")\n",
    "title!(latexstring(@sprintf(\"Estimates with \\$n = %g\\$\",n)))\n",
    "xlabel!(L\"Estimate of $I$\")"
   ]
  },
  {
   "cell_type": "markdown",
   "metadata": {},
   "source": [
    "Much more narrowly concentrated distribution"
   ]
  }
 ],
 "metadata": {
  "kernelspec": {
   "display_name": "Julia 1.8.3",
   "language": "julia",
   "name": "julia-1.8"
  },
  "language_info": {
   "file_extension": ".jl",
   "mimetype": "application/julia",
   "name": "julia",
   "version": "1.8.3"
  }
 },
 "nbformat": 4,
 "nbformat_minor": 4
}
