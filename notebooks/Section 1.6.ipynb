{
 "cells": [
  {
   "cell_type": "markdown",
   "metadata": {},
   "source": [
    "# Bisection Method"
   ]
  },
  {
   "cell_type": "markdown",
   "metadata": {},
   "source": [
    "Compare the speed of this to Newton and Secant for the same problem"
   ]
  },
  {
   "cell_type": "code",
   "execution_count": null,
   "metadata": {},
   "outputs": [],
   "source": [
    "using Printf"
   ]
  },
  {
   "cell_type": "code",
   "execution_count": null,
   "metadata": {},
   "outputs": [],
   "source": [
    "f = x-> exp(x)-x-2\n",
    "\n",
    "n_iter=20\n",
    "\n",
    "a₀ = 1\n",
    "b₀ = 2\n",
    "\n",
    "a = a₀\n",
    "b = b₀\n",
    "\n",
    "for j in 1:n_iter\n",
    "\n",
    "    c = 0.5 * (a+b)\n",
    "    if  f(c) * f(a) > 0\n",
    "        a = c\n",
    "    else\n",
    "        b = c\n",
    "    end\n",
    "    \n",
    "    @printf(\"iter %2d: (a, b) = (%1.8f, %1.8f), f(a) = %1.8f, f(b) = %1.8f\\n\", j, a,b, f(a), f(b));\n",
    "    \n",
    "end\n"
   ]
  }
 ],
 "metadata": {
  "kernelspec": {
   "display_name": "Julia 1.8.2",
   "language": "julia",
   "name": "julia-1.8"
  },
  "language_info": {
   "file_extension": ".jl",
   "mimetype": "application/julia",
   "name": "julia",
   "version": "1.0.3"
  },
  "toc": {
   "base_numbering": 1,
   "nav_menu": {},
   "number_sections": true,
   "sideBar": true,
   "skip_h1_title": false,
   "title_cell": "Table of Contents",
   "title_sidebar": "Contents",
   "toc_cell": false,
   "toc_position": {},
   "toc_section_display": true,
   "toc_window_display": false
  }
 },
 "nbformat": 4,
 "nbformat_minor": 4
}
