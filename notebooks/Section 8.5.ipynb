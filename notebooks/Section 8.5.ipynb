{
 "cells": [
  {
   "cell_type": "code",
   "execution_count": null,
   "metadata": {},
   "outputs": [],
   "source": [
    "using Plots\n",
    "using LaTeXStrings\n",
    "using Printf\n",
    "using LinearAlgebra"
   ]
  },
  {
   "cell_type": "code",
   "execution_count": null,
   "metadata": {},
   "outputs": [],
   "source": [
    "# recommended for readable figures\n",
    "default(xtickfont=font(14),  ytickfont=font(14), \n",
    "    guidefont=font(14), legendfontsize=12, lw=2,ms=4)"
   ]
  },
  {
   "cell_type": "markdown",
   "metadata": {},
   "source": [
    "# Chebyshev Interpolation"
   ]
  },
  {
   "cell_type": "code",
   "execution_count": null,
   "metadata": {},
   "outputs": [],
   "source": [
    "# Lagrange interplation routines\n",
    "function Lk(x,j,x_nodes)\n",
    "   \n",
    "    L = 1.0\n",
    "\n",
    "    for i in setdiff(1:length(x_nodes), [j])\n",
    "        L *= (x - x_nodes[i])/(x_nodes[j] - x_nodes[i]) \n",
    "    end\n",
    "    \n",
    "    return L\n",
    "    \n",
    "end\n",
    "\n",
    "function p_lagrange(x, x_nodes, y_nodes)\n",
    "    \n",
    "    y = 0\n",
    "    \n",
    "    for j in 1:length(x_nodes)\n",
    "       y += Lk(x,j,x_nodes)*y_nodes[j] \n",
    "    end\n",
    "\n",
    "    return y\n",
    "    \n",
    "end"
   ]
  },
  {
   "cell_type": "markdown",
   "metadata": {},
   "source": [
    "# Example 1\n",
    "Interpolate\n",
    "$$\n",
    "f(x) = \\ln(2+x)\n",
    "$$\n",
    "using both uniform and Chebyshev nodes, and compare the error."
   ]
  },
  {
   "cell_type": "code",
   "execution_count": null,
   "metadata": {},
   "outputs": [],
   "source": [
    "f=x->log(2+x)"
   ]
  },
  {
   "cell_type": "code",
   "execution_count": null,
   "metadata": {},
   "outputs": [],
   "source": [
    "n = 60;\n",
    "x_u= range(-1,stop=1,length=n); #uniformly spaced nodes\n",
    "x_c= cos.(π/n .* (1:n) .- π/(2*n)); # chebyshev nodes\n",
    "\n",
    "f_u = f.(x_u);\n",
    "f_c = f.(x_c);\n",
    "\n",
    "xx= -1:0.01:1;\n",
    "xx = xx[2:end-1]\n",
    "\n",
    "p_u = p_lagrange.(xx, (x_u,), (f_u,));\n",
    "p_c = p_lagrange.(xx, (x_c,), (f_c,));"
   ]
  },
  {
   "cell_type": "code",
   "execution_count": null,
   "metadata": {},
   "outputs": [],
   "source": [
    "plt = plot(xx, f.(xx),label=L\"$f(x)$\", legend=:bottomright)\n",
    "plot!(plt, xx, p_u,label=\"Uniform\")\n",
    "plot!(plt, xx, p_c,label=\"Chebyshev\")\n",
    "scatter!(plt,x_c,f_c,label=\"Chebyshev Nodes\")\n",
    "xlabel!(plt, L\"$x$\")"
   ]
  },
  {
   "cell_type": "code",
   "execution_count": null,
   "metadata": {},
   "outputs": [],
   "source": [
    "plt = plot(xx, abs.(p_u .- f.(xx)),label=\"Uniform\", \n",
    "    yaxis=(:log10, [1e-20, :auto]), legend=:top)\n",
    "plot!(plt, xx, abs.(p_c .- f.(xx)),label=\"Chebyshev\")\n",
    "ylabel!(\"Error\")\n",
    "xlabel!(L\"$x$\")"
   ]
  }
 ],
 "metadata": {
  "kernelspec": {
   "display_name": "Julia 1.8.2",
   "language": "julia",
   "name": "julia-1.8"
  },
  "language_info": {
   "file_extension": ".jl",
   "mimetype": "application/julia",
   "name": "julia",
   "version": "1.8.2"
  },
  "toc": {
   "base_numbering": 1,
   "nav_menu": {},
   "number_sections": true,
   "sideBar": true,
   "skip_h1_title": false,
   "title_cell": "Table of Contents",
   "title_sidebar": "Contents",
   "toc_cell": false,
   "toc_position": {},
   "toc_section_display": true,
   "toc_window_display": false
  }
 },
 "nbformat": 4,
 "nbformat_minor": 4
}
