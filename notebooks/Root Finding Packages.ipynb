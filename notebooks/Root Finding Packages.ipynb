{
 "cells": [
  {
   "cell_type": "markdown",
   "id": "d4fcc390-08a3-411c-8c08-e0b2b228f352",
   "metadata": {},
   "source": [
    "# Scalar Functions"
   ]
  },
  {
   "cell_type": "code",
   "execution_count": null,
   "id": "2f606048-f70a-48ce-8d4e-181543ba40ac",
   "metadata": {},
   "outputs": [],
   "source": [
    "using Roots"
   ]
  },
  {
   "cell_type": "code",
   "execution_count": null,
   "id": "924a6f09-7039-49fc-afdd-16251df27a98",
   "metadata": {},
   "outputs": [],
   "source": [
    "f(x) = exp(x)- 2 * x -1\n",
    "p = fzero(f, 1);\n",
    "@show p;\n",
    "@show f(p);"
   ]
  },
  {
   "cell_type": "markdown",
   "id": "d4ef6bfb-6e9d-45dd-a994-88b479ffcacb",
   "metadata": {},
   "source": [
    "# Multidimensional Problems"
   ]
  },
  {
   "cell_type": "code",
   "execution_count": null,
   "id": "b5538e44-a5d4-43be-aa56-7c390c8e0f19",
   "metadata": {},
   "outputs": [],
   "source": [
    "using NLsolve"
   ]
  },
  {
   "cell_type": "code",
   "execution_count": null,
   "id": "33f9ab96-4098-46e8-a585-ecde5700b37b",
   "metadata": {},
   "outputs": [],
   "source": [
    "# define function of 2 variables\n",
    "# x is a 2D array\n",
    "\n",
    "function f(x)\n",
    "    return [x[1]^2+x[2]^2-1, 5*x[1]^2+21*x[2]^2-9]\n",
    "end\n"
   ]
  },
  {
   "cell_type": "code",
   "execution_count": null,
   "id": "77c19e3c-3c26-44d9-89d0-ca4cc1746d2a",
   "metadata": {},
   "outputs": [],
   "source": [
    "x0 = [1., 1.];\n",
    "soln = nlsolve(f, x0)"
   ]
  },
  {
   "cell_type": "code",
   "execution_count": null,
   "id": "9e16d058-60c7-40ad-9c3d-efa828b19c7d",
   "metadata": {},
   "outputs": [],
   "source": [
    "@show p = soln.zero;\n",
    "@show f(p);"
   ]
  }
 ],
 "metadata": {
  "kernelspec": {
   "display_name": "Julia 1.8.2",
   "language": "julia",
   "name": "julia-1.8"
  },
  "language_info": {
   "name": ""
  }
 },
 "nbformat": 4,
 "nbformat_minor": 5
}
