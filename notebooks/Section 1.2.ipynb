{
 "cells": [
  {
   "cell_type": "code",
   "execution_count": null,
   "metadata": {},
   "outputs": [],
   "source": [
    "using Plots # for basic plotting\n",
    "using LaTeXStrings # for LaTeX\n",
    "using Printf # for string macros"
   ]
  },
  {
   "cell_type": "code",
   "execution_count": null,
   "metadata": {},
   "outputs": [],
   "source": [
    "# recommended for readable figures\n",
    "default(xtickfont=font(14),  ytickfont=font(14), guidefont=font(14), \n",
    "    legendfontsize=12, lw=2,ms=8)"
   ]
  },
  {
   "cell_type": "markdown",
   "metadata": {},
   "source": [
    "# Nearby Roots"
   ]
  },
  {
   "cell_type": "markdown",
   "metadata": {},
   "source": [
    "Plots\n",
    "\n",
    "$f(x) = \\frac{1}{2} - \\frac{1}{1 + M|x-1.05|}$"
   ]
  },
  {
   "cell_type": "code",
   "execution_count": null,
   "metadata": {},
   "outputs": [],
   "source": [
    "function f(x,M)\n",
    "   return 1/2 - 1/(1 + M * abs(x-1.05)) \n",
    "end\n",
    "\n",
    "x = 0.8:0.00001:1.8;\n",
    "\n",
    "M = 100;\n",
    "\n",
    "# construct a function at fixed M\n",
    "ff = x -> f(x,M);\n",
    "\n",
    "plot(x, ff.(x), label=\"\", lw=2)\n",
    "plot!(x, 0 .* x, label=\"\", lw=2, c=:black, ls=:dash)\n",
    "xlabel!(L\"$x$\")\n",
    "title!(latexstring(@sprintf(\"\\$M = %g\\$\", M)))\n",
    "xlims!(x[1],x[end])"
   ]
  },
  {
   "cell_type": "markdown",
   "metadata": {},
   "source": [
    "# Fixed Points vs. Roots"
   ]
  },
  {
   "cell_type": "markdown",
   "metadata": {},
   "source": [
    "Study\n",
    "$$\n",
    "f(x) = e^x-2x-1\n",
    "$$"
   ]
  },
  {
   "cell_type": "code",
   "execution_count": null,
   "metadata": {},
   "outputs": [],
   "source": [
    "function f(x)\n",
    "    return exp(x)- 2 * x -1\n",
    "end\n",
    "\n",
    "x = 1:0.01:2;\n",
    "\n",
    "plot(x,f.(x), lw=2,label=L\"$f(x) = e^{x}-2x-1$\")\n",
    "plot!(x, 0 .* x, lw=2,label=\"\",c=:black, ls=:dash)\n"
   ]
  },
  {
   "cell_type": "code",
   "execution_count": null,
   "metadata": {},
   "outputs": [],
   "source": [
    "function f(x)\n",
    "    return exp(x)- 2 * x -1\n",
    "end\n",
    "\n",
    "x = 1:0.01:2;\n",
    "\n",
    "plot(x,f.(x), lw=2,label=L\"$f(x) = e^{x}-2x-1$\", legend=:topleft)\n",
    "plot!(x, 0 .* x, lw=2,label=\"\",c=:black, ls=:dash)\n",
    "# fixed points\n",
    "plot!(x, x, lw=2,label=\"x\",c=:red, ls=:dash)\n",
    "plot!(x,log.(2 .* x .+ 1), lw=2,label=L\"$g_1(x) = \\ln(2x+1)$\")\n",
    "plot!(x, (exp.(x) .- 1)./2, lw=2,label=L\"$g_2(x) = (e^x-1)/2$\")\n",
    "xlabel!(L\"$x$\")\n"
   ]
  },
  {
   "cell_type": "code",
   "execution_count": null,
   "metadata": {},
   "outputs": [],
   "source": [
    "function f(x)\n",
    "    return exp(x)- 2 * x -1\n",
    "end\n",
    "\n",
    "function g(x)\n",
    "    return log(2 * x + 1)\n",
    "end\n",
    "\n",
    "n_iter=20;\n",
    "\n",
    "# starting guess\n",
    "x0 = 1.0;\n",
    "# load starting guess\n",
    "x = x0;\n",
    "\n",
    "@printf(\"iter = %2d, x = %.8f f(x) = %g\\n\", 0, x, f(x));\n",
    "\n",
    "for j in 1:n_iter\n",
    "    x = g(x)\n",
    "    @printf(\"iter = %2d, x = %.8f f(x) = %g\\n\", j, x, f(x));\n",
    "end\n"
   ]
  },
  {
   "cell_type": "markdown",
   "metadata": {},
   "source": [
    "# Theoretical Number of Iterations"
   ]
  },
  {
   "cell_type": "code",
   "execution_count": null,
   "metadata": {},
   "outputs": [],
   "source": [
    "x1 = g(x0);\n",
    "L = 2.0/3.0;\n",
    "eps = 0.5 * 10^(-8);\n",
    "k0 = floor(Int, (log(abs(x0 - x1))  - log(eps * (1-L)))/log(1/L) )+1;\n",
    "println(\"Predicted number of iterations: \", k0);\n",
    "\n",
    "\n",
    "# load starting guess\n",
    "x = x0;\n",
    "\n",
    "@printf(\"iter = %2d, x = %.9f f(x) = %g\\n\", 0, x, f(x))\n",
    "\n",
    "for j in 1:k0\n",
    "    x = g(x)\n",
    "    @printf(\"iter = %2d, x = %.9f f(x) = %g\\n\", j, x, f(x))\n",
    "end"
   ]
  },
  {
   "cell_type": "code",
   "execution_count": null,
   "metadata": {},
   "outputs": [],
   "source": [
    "f"
   ]
  },
  {
   "cell_type": "code",
   "execution_count": null,
   "metadata": {},
   "outputs": [],
   "source": [
    "f.([1,2])"
   ]
  },
  {
   "cell_type": "markdown",
   "metadata": {},
   "source": [
    "# Comparison of Convergence Rates"
   ]
  },
  {
   "cell_type": "code",
   "execution_count": null,
   "metadata": {},
   "outputs": [],
   "source": [
    "function g(x,α)\n",
    "    \n",
    "    if x > 0\n",
    "        return 2.0^(-(1 + (log2(1/x))^(1/α))^α)\n",
    "    else\n",
    "        return 0.0\n",
    "    end\n",
    "    \n",
    "end\n",
    "\n",
    "x= 0:0.01:1;\n",
    "plot(x,g.(x,(1/2,)), label=L\"$\\alpha=1/2$\", lw=2)\n",
    "plot!(x,g.(x,(1,)), label=L\"$\\alpha=1$\", lw=2)\n",
    "plot!(x,g.(x,(2,)), label=L\"$\\alpha=2$\", lw=2)\n",
    "xlabel!(L\"$x$\")\n",
    "ylabel!(L\"$g(x;\\alpha)$\")"
   ]
  },
  {
   "cell_type": "code",
   "execution_count": null,
   "metadata": {},
   "outputs": [],
   "source": [
    "α_vals = [0.5, 1.0, 2.0];\n",
    "\n",
    "x_iter = ones(3); # all three cases start at x₀=1\n",
    "n_iter = 12;\n",
    "\n",
    "println(\"iter \", 0,\" values = \", x_iter);\n",
    "for j in 1:n_iter\n",
    "    # simultaneously applies each α to each of the different sequences\n",
    "    x_iter .= g.(x_iter, α_vals);\n",
    "    println(\"iter \", j,\" values = \", x_iter);\n",
    "    \n",
    "end"
   ]
  },
  {
   "cell_type": "markdown",
   "metadata": {},
   "source": [
    "# Preasymptotic Results\n",
    "This illustrates the example where the sublinear method does better at small $k$ than the linear method."
   ]
  },
  {
   "cell_type": "code",
   "execution_count": null,
   "metadata": {},
   "outputs": [],
   "source": [
    "k= 1:10;\n",
    "scatter(k, (.99) .^k,label=L\"$u_k$\", legend=:right,\n",
    "    yaxis=(:log10, [1e-12, 2e0]))\n",
    "scatter!(k,1 ./ (1 .+ k).^10,label=L\"$v_k$\")\n",
    "xlabel!(L\"$k$\")"
   ]
  },
  {
   "cell_type": "code",
   "execution_count": null,
   "metadata": {},
   "outputs": [],
   "source": [
    "k= 1:10^4;\n",
    "plot(k, k,label=L\"$k$\", legend=:bottomright)\n",
    "plot!(k, 10/log(1/.99)* log.(k .+ 1),label=L\"$-10/\\ln(.99) \\ln(k+1)$\")\n",
    "xlabel!(L\"$k$\")\n",
    "# savefig(\"oddexample1.pdf\")"
   ]
  },
  {
   "cell_type": "code",
   "execution_count": null,
   "metadata": {},
   "outputs": [],
   "source": []
  }
 ],
 "metadata": {
  "kernelspec": {
   "display_name": "Julia 1.8.1",
   "language": "julia",
   "name": "julia-1.8"
  },
  "language_info": {
   "file_extension": ".jl",
   "mimetype": "application/julia",
   "name": "julia",
   "version": "1.8.1"
  },
  "toc": {
   "base_numbering": 1,
   "nav_menu": {},
   "number_sections": true,
   "sideBar": true,
   "skip_h1_title": false,
   "title_cell": "Table of Contents",
   "title_sidebar": "Contents",
   "toc_cell": false,
   "toc_position": {},
   "toc_section_display": true,
   "toc_window_display": false
  }
 },
 "nbformat": 4,
 "nbformat_minor": 4
}
