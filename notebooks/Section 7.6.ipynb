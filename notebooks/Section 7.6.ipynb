{
 "cells": [
  {
   "cell_type": "code",
   "execution_count": null,
   "metadata": {},
   "outputs": [],
   "source": [
    "using Printf\n",
    "using QuadGK\n",
    "using Plots"
   ]
  },
  {
   "cell_type": "code",
   "execution_count": null,
   "metadata": {},
   "outputs": [],
   "source": [
    "# recommended for readable figures\n",
    "default(xtickfont=font(14),  ytickfont=font(14), \n",
    "    guidefont=font(14), legendfontsize=12, lw=2,ms=8)"
   ]
  },
  {
   "cell_type": "code",
   "execution_count": null,
   "metadata": {},
   "outputs": [],
   "source": [
    "function trapz(f,a,b,m)\n",
    "    \n",
    "    x = range(a,b,length=m+1); \n",
    "    h = (b-a)/m;\n",
    "    \n",
    "    s = 0.0;\n",
    "    \n",
    "    for i in 1:m\n",
    "        s += .5 * h * (f(x[i]) + f(x[i+1]))\n",
    "    end\n",
    "    \n",
    "    return s\n",
    "    \n",
    "end\n"
   ]
  },
  {
   "cell_type": "markdown",
   "metadata": {},
   "source": [
    "# Periodic Example\n",
    "Apply composite Trapezoidal rule to a periodic function"
   ]
  },
  {
   "cell_type": "code",
   "execution_count": null,
   "metadata": {},
   "outputs": [],
   "source": [
    "f = x->exp(-sin(x))"
   ]
  },
  {
   "cell_type": "code",
   "execution_count": null,
   "metadata": {},
   "outputs": [],
   "source": [
    "xx=range(0,2*π,length=100)\n",
    "plot(xx, f.(xx),label=\"\",lw=2)\n",
    "xlabel!(\"x\")\n",
    "ylabel!(\"y\")"
   ]
  },
  {
   "cell_type": "code",
   "execution_count": null,
   "metadata": {},
   "outputs": [],
   "source": [
    "for m in 4:24\n",
    "    integral_estimate = trapz(f, 0, 2*π, m)\n",
    "    println(@sprintf(\"m = %2d, ∫f = %.14f\", m,integral_estimate))\n",
    "end"
   ]
  },
  {
   "cell_type": "code",
   "execution_count": null,
   "metadata": {},
   "outputs": [],
   "source": [
    "quadgk(f,0,2*π)\n"
   ]
  },
  {
   "cell_type": "markdown",
   "metadata": {},
   "source": [
    "Verify that the same results are obtained when using left endpoint Riemann sums."
   ]
  },
  {
   "cell_type": "code",
   "execution_count": null,
   "metadata": {},
   "outputs": [],
   "source": [
    "a= 0;\n",
    "b = 2 * π;\n",
    "for m in 4:24\n",
    "    x = range(a,b,length=m+1); \n",
    "    x = x[1:end-1];\n",
    "    h = (b-a)/m;\n",
    "    integral_estimate = h * sum(f.(x));\n",
    "    println(@sprintf(\"m = %2d, ∫f = %.14f\", m,integral_estimate))\n",
    "end"
   ]
  },
  {
   "cell_type": "code",
   "execution_count": null,
   "metadata": {},
   "outputs": [],
   "source": []
  }
 ],
 "metadata": {
  "kernelspec": {
   "display_name": "Julia 1.8.2",
   "language": "julia",
   "name": "julia-1.8"
  },
  "language_info": {
   "file_extension": ".jl",
   "mimetype": "application/julia",
   "name": "julia",
   "version": "1.8.2"
  },
  "toc": {
   "base_numbering": 1,
   "nav_menu": {},
   "number_sections": true,
   "sideBar": true,
   "skip_h1_title": false,
   "title_cell": "Table of Contents",
   "title_sidebar": "Contents",
   "toc_cell": false,
   "toc_position": {},
   "toc_section_display": true,
   "toc_window_display": false
  }
 },
 "nbformat": 4,
 "nbformat_minor": 4
}
