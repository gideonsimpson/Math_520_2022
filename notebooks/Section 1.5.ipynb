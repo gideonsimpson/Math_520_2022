{
 "cells": [
  {
   "cell_type": "markdown",
   "metadata": {},
   "source": [
    "# Secant Method"
   ]
  },
  {
   "cell_type": "code",
   "execution_count": null,
   "metadata": {},
   "outputs": [],
   "source": [
    "f = x-> exp(x)-x-2\n",
    "\n",
    "n_iter=7\n",
    "\n",
    "x₀ = 2\n",
    "x₁ = 1\n",
    "\n",
    "\n",
    "println(\"iter \", 0,\" x = \", x₁, \" f(x) = \", f(x₁));\n",
    "for j = 1:n_iter\n",
    "    x = x₁ - f(x₁) * (x₁-x₀)/(f(x₁)-f(x₀))\n",
    "    x₀ = x₁\n",
    "    x₁ = x\n",
    "    println(\"iter \", j,\" x = \", x₁, \" f(x) = \", f(x₁));\n",
    "end\n"
   ]
  }
 ],
 "metadata": {
  "kernelspec": {
   "display_name": "Julia 1.8.1",
   "language": "julia",
   "name": "julia-1.8"
  },
  "language_info": {
   "file_extension": ".jl",
   "mimetype": "application/julia",
   "name": "julia",
   "version": "1.8.1"
  },
  "toc": {
   "base_numbering": 1,
   "nav_menu": {},
   "number_sections": true,
   "sideBar": true,
   "skip_h1_title": false,
   "title_cell": "Table of Contents",
   "title_sidebar": "Contents",
   "toc_cell": false,
   "toc_position": {},
   "toc_section_display": true,
   "toc_window_display": false
  }
 },
 "nbformat": 4,
 "nbformat_minor": 4
}
